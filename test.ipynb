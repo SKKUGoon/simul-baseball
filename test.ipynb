{
 "cells": [
  {
   "cell_type": "code",
   "execution_count": 1,
   "metadata": {},
   "outputs": [],
   "source": [
    "import pandas as pd\n",
    "\n",
    "# from data.kbo.statiz import KBOTeams\n",
    "from data.kbo.naver import NaverGame\n",
    "from data.kbo.naver import SingleInning\n",
    "\n",
    "from datetime import datetime"
   ]
  },
  {
   "cell_type": "code",
   "execution_count": 2,
   "metadata": {},
   "outputs": [],
   "source": [
    "import requests\n",
    "\n",
    "KBO_NAVER_LOGS_URL = \"https://api-gw.sports.naver.com/schedule/games\"\n",
    "\n",
    "def request_player_stats(home_team, away_team, date: datetime, inning: int):\n",
    "    header = {\n",
    "        \"Accept\": \"*/*\",\n",
    "        \"Accept-Encoding\": \"gzip, deflate, br\",\n",
    "        \"Connection\": \"keep-alive\",\n",
    "        \"authority\": \"api-gw.sports.naver.com\",\n",
    "        \"Origin\": \"https://m.sports.naver.com\",\n",
    "        \"User-Agent\": \"Mozilla/5.0 (Macintosh; Intel Mac OS X 10_15_7) AppleWebKit/537.36 (KHTML, like Gecko) Chrome/129.0.0.0 Safari/537.36\"\n",
    "    }\n",
    "    gid = f\"{date.strftime('%Y%m%d')}{home_team}{away_team}0{date.year}\"\n",
    "    url = f\"{KBO_NAVER_LOGS_URL}/{gid}/relay\"\n",
    "\n",
    "    param = {'inning': inning}\n",
    "    resp = requests.get(url, params=param, headers=header)\n",
    "\n",
    "    if resp.status_code == 200:\n",
    "        jstr = resp.json()\n",
    "\n",
    "        return jstr['result']\n",
    "    \n",
    "    else:\n",
    "        RuntimeError(resp.status_code)"
   ]
  },
  {
   "cell_type": "code",
   "execution_count": 3,
   "metadata": {},
   "outputs": [],
   "source": [
    "test_log = request_player_stats(\"HT\", \"LT\", datetime(2024, 9, 28), 1)"
   ]
  },
  {
   "cell_type": "code",
   "execution_count": 4,
   "metadata": {},
   "outputs": [
    {
     "data": {
      "text/plain": [
       "dict_keys(['category', 'gameId', 'no', 'inn', 'homeOrAway', 'inningScore', 'homeEntry', 'awayEntry', 'homeLineup', 'awayLineup', 'currentGameState', 'textRelays'])"
      ]
     },
     "execution_count": 4,
     "metadata": {},
     "output_type": "execute_result"
    }
   ],
   "source": [
    "test_log['textRelayData'].keys()"
   ]
  },
  {
   "cell_type": "code",
   "execution_count": 5,
   "metadata": {},
   "outputs": [
    {
     "data": {
      "text/plain": [
       "[['반즈', 1, '91.0', '189.0', '52528'],\n",
       " ['구승민', 2, '86.0', '182.0', '63543'],\n",
       " ['나균안', 3, '109.0', '186.0', '67539'],\n",
       " ['정현수', 4, '84.0', '180.0', '54537'],\n",
       " ['진승현', 5, '108.0', '184.0', '52558'],\n",
       " ['송재영', 6, '84.0', '181.0', '51594'],\n",
       " ['정우준', 7, '82.0', '180.0', '51546'],\n",
       " ['이민석', 8, '95.0', '189.0', '52530']]"
      ]
     },
     "execution_count": 5,
     "metadata": {},
     "output_type": "execute_result"
    }
   ],
   "source": [
    "[[i[k] for k in ['name', 'seqno', 'weight', 'height', 'pcode']] for i in test_log['textRelayData']['homeLineup']['pitcher']]"
   ]
  },
  {
   "cell_type": "code",
   "execution_count": 6,
   "metadata": {},
   "outputs": [
    {
     "data": {
      "text/plain": [
       "[['강승구', '포수', 3, 1, '83.0', '180.0', '54506'],\n",
       " ['신윤후', '대타', 2, 1, '77.0', '177.0', '69508'],\n",
       " ['황성빈', '중견수', 1, 1, '76.0', '172.0', '50500'],\n",
       " ['레이예스', '지명타자', 1, 2, '87.0', '196.0', '54529'],\n",
       " ['이호준', '2루수', 2, 3, '72.0', '172.0', '54598'],\n",
       " ['고승민', '2루수', 1, 3, '92.0', '189.0', '69517'],\n",
       " ['손호영', '3루수', 1, 4, '88.0', '182.0', '50150'],\n",
       " ['전준우', '좌익수', 1, 5, '98.0', '184.0', '78513'],\n",
       " ['이주찬', '1루수', 2, 6, '86.0', '181.0', '51560'],\n",
       " ['나승엽', '1루수', 1, 6, '82.0', '190.0', '51551'],\n",
       " ['윤동희', '우익수', 1, 7, '85.0', '187.0', '52591'],\n",
       " ['박승욱', '유격수', 1, 8, '83.0', '184.0', '62802'],\n",
       " ['이인한', '중견수', 6, 9, '100.0', '183.0', '50608'],\n",
       " ['서동욱', '포수', 4, 9, '88.0', '175.0', '53569'],\n",
       " ['김민석', '대주자', 3, 9, '83.0', '185.0', '53554'],\n",
       " ['정훈', '대타', 2, 9, '85.0', '180.0', '60523'],\n",
       " ['정보근', '포수', 1, 9, '94.0', '175.0', '68518']]"
      ]
     },
     "execution_count": 6,
     "metadata": {},
     "output_type": "execute_result"
    }
   ],
   "source": [
    "[[i[k] for k in ['name', 'posName', 'seqno', 'batOrder', 'weight', 'height', 'pcode']] for i in test_log['textRelayData']['homeLineup']['batter']]"
   ]
  },
  {
   "cell_type": "code",
   "execution_count": 7,
   "metadata": {},
   "outputs": [
    {
     "data": {
      "text/plain": [
       "[['윤영철', 1, '87.0', '187.0', '53613'],\n",
       " ['김기훈', 2, '93.0', '184.0', '69620'],\n",
       " ['박준표', 3, '93.0', '181.0', '63638'],\n",
       " ['장현식', 4, '91.0', '181.0', '63950'],\n",
       " ['최지민', 5, '100.0', '185.0', '52639'],\n",
       " ['이준영', 6, '85.0', '177.0', '65665'],\n",
       " ['정해영', 7, '98.0', '189.0', '50662']]"
      ]
     },
     "execution_count": 7,
     "metadata": {},
     "output_type": "execute_result"
    }
   ],
   "source": [
    "[[i[k] for k in ['name', 'seqno', 'weight', 'height', 'pcode']] for i in test_log['textRelayData']['awayLineup']['pitcher']]"
   ]
  },
  {
   "cell_type": "code",
   "execution_count": 8,
   "metadata": {},
   "outputs": [
    {
     "data": {
      "text/plain": [
       "[['김도영', '지명타자', 1, 1, '85.0', '183.0', '52605'],\n",
       " ['윤도현', '3루수', 1, 2, '84.0', '181.0', '52667'],\n",
       " ['박찬호', '유격수', 1, 3, '72.0', '178.0', '64646'],\n",
       " ['박정우', '중견수', 3, 4, '68.0', '175.0', '67609'],\n",
       " ['이우성', '우익수', 1, 4, '95.0', '182.0', '63260'],\n",
       " ['이창진', '좌익수', 1, 5, '85.0', '173.0', '64560'],\n",
       " ['오선우', '1루수', 3, 6, '95.0', '186.0', '69636'],\n",
       " ['변우혁', '1루수', 1, 6, '95.0', '185.0', '69727'],\n",
       " ['최원준', '우익수', 3, 7, '85.0', '178.0', '66606'],\n",
       " ['김호령', '중견수', 1, 7, '85.0', '178.0', '65653'],\n",
       " ['최정용', '2루수', 4, 8, '75.0', '178.0', '65464'],\n",
       " ['서건창', '2루수', 3, 8, '84.0', '176.0', '78168'],\n",
       " ['김태군', '포수', 1, 8, '92.0', '182.0', '78122'],\n",
       " ['한준수', '포수', 5, 9, '95.0', '184.0', '68646'],\n",
       " ['한승택', '포수', 3, 9, '83.0', '174.0', '63722'],\n",
       " ['고종욱', '대타', 2, 9, '83.0', '184.0', '61353'],\n",
       " ['김두현', '2루수', 1, 9, '76.0', '177.0', '54614']]"
      ]
     },
     "execution_count": 8,
     "metadata": {},
     "output_type": "execute_result"
    }
   ],
   "source": [
    "[[i[k] for k in ['name', 'posName', 'seqno', 'batOrder', 'weight', 'height', 'pcode']] for i in test_log['textRelayData']['awayLineup']['batter']]"
   ]
  },
  {
   "cell_type": "code",
   "execution_count": null,
   "metadata": {},
   "outputs": [],
   "source": []
  },
  {
   "cell_type": "code",
   "execution_count": null,
   "metadata": {},
   "outputs": [],
   "source": []
  }
 ],
 "metadata": {
  "kernelspec": {
   "display_name": "baseball",
   "language": "python",
   "name": "python3"
  },
  "language_info": {
   "codemirror_mode": {
    "name": "ipython",
    "version": 3
   },
   "file_extension": ".py",
   "mimetype": "text/x-python",
   "name": "python",
   "nbconvert_exporter": "python",
   "pygments_lexer": "ipython3",
   "version": "3.11.7"
  }
 },
 "nbformat": 4,
 "nbformat_minor": 2
}
