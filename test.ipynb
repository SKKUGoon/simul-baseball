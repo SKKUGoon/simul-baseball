{
 "cells": [
  {
   "cell_type": "code",
   "execution_count": 25,
   "metadata": {},
   "outputs": [],
   "source": [
    "import pandas as pd\n",
    "\n",
    "# from data.kbo.statiz import KBOTeams\n",
    "from data.kbo.naver import NaverGame\n",
    "from data.kbo.naver import SingleInning\n",
    "\n",
    "from datetime import datetime"
   ]
  },
  {
   "cell_type": "code",
   "execution_count": 26,
   "metadata": {},
   "outputs": [],
   "source": [
    "import requests\n",
    "\n",
    "KBO_NAVER_LOGS_URL = \"https://api-gw.sports.naver.com/schedule/games\"\n",
    "\n",
    "def request_player_stats(home_team, away_team, date: datetime, inning: int):\n",
    "    header = {\n",
    "        \"Accept\": \"*/*\",\n",
    "        \"Accept-Encoding\": \"gzip, deflate, br\",\n",
    "        \"Connection\": \"keep-alive\",\n",
    "        \"authority\": \"api-gw.sports.naver.com\",\n",
    "        \"Origin\": \"https://m.sports.naver.com\",\n",
    "        \"User-Agent\": \"Mozilla/5.0 (Macintosh; Intel Mac OS X 10_15_7) AppleWebKit/537.36 (KHTML, like Gecko) Chrome/129.0.0.0 Safari/537.36\"\n",
    "    }\n",
    "    gid = f\"{date.strftime('%Y%m%d')}{home_team}{away_team}0{date.year}\"\n",
    "    url = f\"{KBO_NAVER_LOGS_URL}/{gid}/relay\"\n",
    "\n",
    "    param = {'inning': inning}\n",
    "    resp = requests.get(url, params=param, headers=header)\n",
    "\n",
    "    if resp.status_code == 200:\n",
    "        jstr = resp.json()\n",
    "\n",
    "        return jstr['result']\n",
    "    \n",
    "    else:\n",
    "        RuntimeError(resp.status_code)"
   ]
  },
  {
   "cell_type": "code",
   "execution_count": 27,
   "metadata": {},
   "outputs": [],
   "source": [
    "test_log = request_player_stats(\"HT\", \"LT\", datetime(2024, 9, 28), 1)"
   ]
  },
  {
   "cell_type": "code",
   "execution_count": null,
   "metadata": {},
   "outputs": [],
   "source": [
    "test_log['textRelayData'].keys()"
   ]
  },
  {
   "cell_type": "code",
   "execution_count": null,
   "metadata": {},
   "outputs": [],
   "source": [
    "[[i[k] for k in ['name', 'seqno', 'weight', 'height', 'pcode']] for i in test_log['textRelayData']['homeLineup']['pitcher']]"
   ]
  },
  {
   "cell_type": "code",
   "execution_count": null,
   "metadata": {},
   "outputs": [],
   "source": [
    "[[i[k] for k in ['name', 'posName', 'seqno', 'batOrder', 'weight', 'height', 'pcode']] for i in test_log['textRelayData']['homeLineup']['batter']]"
   ]
  },
  {
   "cell_type": "code",
   "execution_count": null,
   "metadata": {},
   "outputs": [],
   "source": [
    "[[i[k] for k in ['name', 'seqno', 'weight', 'height', 'pcode']] for i in test_log['textRelayData']['awayLineup']['pitcher']]"
   ]
  },
  {
   "cell_type": "code",
   "execution_count": null,
   "metadata": {},
   "outputs": [],
   "source": [
    "[[i[k] for k in ['name', 'posName', 'seqno', 'batOrder', 'weight', 'height', 'pcode']] for i in test_log['textRelayData']['awayLineup']['batter']]"
   ]
  },
  {
   "cell_type": "markdown",
   "metadata": {},
   "source": [
    "### Game itself"
   ]
  },
  {
   "cell_type": "code",
   "execution_count": 2,
   "metadata": {},
   "outputs": [],
   "source": [
    "log = NaverGame(\"HT\", \"LT\", datetime(2024, 9, 28))\n",
    "d_ = log.data()"
   ]
  },
  {
   "cell_type": "code",
   "execution_count": null,
   "metadata": {},
   "outputs": [],
   "source": [
    "inning_manager = SingleInning(1, \"away\")\n",
    "xs, ys = list(), list()\n",
    "for i, d in enumerate(d_):\n",
    "    training = inning_manager.insert_log(d)\n",
    "    if training is not None:\n",
    "        x, y = training\n",
    "        xs.append(x)\n",
    "        ys.append(y)\n",
    "    else:\n",
    "        print(f\"passing log {i}\")\n",
    "    \n",
    "    if inning_manager.outs >= 3:\n",
    "        inning_manager = inning_manager.advance_to_next()  # Change side or inning\n",
    "        print(f\"moved to inning {int(inning_manager.curr_inning)}, {inning_manager.home_away}\")\n"
   ]
  },
  {
   "cell_type": "code",
   "execution_count": 8,
   "metadata": {},
   "outputs": [],
   "source": [
    "total_logs = pd.concat([pd.concat(xs), pd.concat(ys)], axis=1).reset_index(drop=True)"
   ]
  },
  {
   "cell_type": "code",
   "execution_count": null,
   "metadata": {},
   "outputs": [],
   "source": [
    "total_logs"
   ]
  },
  {
   "cell_type": "code",
   "execution_count": null,
   "metadata": {},
   "outputs": [],
   "source": []
  }
 ],
 "metadata": {
  "kernelspec": {
   "display_name": "baseball",
   "language": "python",
   "name": "python3"
  },
  "language_info": {
   "codemirror_mode": {
    "name": "ipython",
    "version": 3
   },
   "file_extension": ".py",
   "mimetype": "text/x-python",
   "name": "python",
   "nbconvert_exporter": "python",
   "pygments_lexer": "ipython3",
   "version": "3.11.7"
  }
 },
 "nbformat": 4,
 "nbformat_minor": 2
}
